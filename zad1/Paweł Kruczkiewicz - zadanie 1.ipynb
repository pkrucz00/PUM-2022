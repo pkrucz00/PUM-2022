{
 "cells": [
  {
   "cell_type": "markdown",
   "id": "ec52092a",
   "metadata": {},
   "source": [
    "# Badanie klątwy wymiaru\n",
    "\n",
    "**Przedmiot: Podstawy Uczenia Maszynowego**<br>\n",
    "**Wykonał: Paweł Kruczkiewicz**<br>\n",
    "Kraków, 14.03.2022 r.\n",
    "\n",
    "**Celem ćwiczenia jest** zbadanie problemu klątwy wymiaru, który jest jednym z trudniejszych problemów w uczeniu maszynowym. Poniżej przeanalizowane zostaną trzy sposoby na pokazanie tego problemu. Opierają się na analizie metodą Monte Carlo zbioru puntów w hipersześcianie a następnie na :\n",
    "   1. Sprawdzeniu kąta między dwoma wylosowanymi n-wymiarowymi wektorami.\n",
    "   2. Wyliczeniu, jaka część lpunktów w hipersześcianie znajduje się wewnątrz kuli wyznaczonej przez 2 losowo wybrane punkty\n",
    "   3. Wyliczeniu stosunku różnicy i średniej dla dwóch długości odcinków powstałych przez wylosowanie 3 punktów."
   ]
  },
  {
   "cell_type": "code",
   "execution_count": 1,
   "id": "1611b4fe",
   "metadata": {},
   "outputs": [],
   "source": [
    "import numpy as np\n",
    "import matplotlib.pyplot as plt"
   ]
  },
  {
   "cell_type": "markdown",
   "id": "3a377a6b",
   "metadata": {},
   "source": [
    "# Przydatne funkcje\n",
    " - `get_random_points_from_hipercube(N, D)` - **Losowanie `N` punktów w `D`-wymiarowej przestrzeni**, gdzie wartości punktów w poszczególnych wymiarach są w zakresie \\[0, 1)"
   ]
  },
  {
   "cell_type": "code",
   "execution_count": 2,
   "id": "ef37b379",
   "metadata": {},
   "outputs": [],
   "source": [
    "def get_random_points_from_hipercube(N, D):\n",
    "    return np.random.rand(N, D)"
   ]
  },
  {
   "cell_type": "markdown",
   "id": "8063d848",
   "metadata": {},
   "source": [
    " - `calculate_random_angles(P, N)` - Zwraca **listę `N` kątów** dla `N` wylosowanych par ze zbioru pubków `P`"
   ]
  },
  {
   "cell_type": "code",
   "execution_count": 3,
   "id": "a47a7b8d",
   "metadata": {},
   "outputs": [],
   "source": [
    "def choose_random_point(P):\n",
    "    rand_ind = np.random.randint(P.shape[0])\n",
    "    return P[rand_ind, :]\n",
    "\n",
    "def choose_random_vector(P):\n",
    "    return choose_random_point(P) - choose_random_point(P)\n",
    "\n",
    "def calculate_angle(v1, v2):\n",
    "    v1_u = v1 / np.linalg.norm(v1)\n",
    "    v2_u = v2 / np.linalg.norm(v2)\n",
    "    angle_in_radians =  np.arccos(np.clip(np.dot(v1_u, v2_u), -1.0, 1.0))\n",
    "    return np.degrees(angle_in_radians)\n",
    "\n",
    "def calculate_random_angles(P, N):\n",
    "    pairs_of_random_vectors = [ (choose_random_vector(P), choose_random_vector(P)) for _ in range(N)]\n",
    "    return np.array([calculate_angle(v1, v2) for v1, v2 in pairs_of_random_vectors])"
   ]
  },
  {
   "cell_type": "markdown",
   "id": "8eda56bd",
   "metadata": {},
   "source": [
    " - `calculate_percent_of_points_in_random_sphere(P, N)` - Zwraca  **procent punktów znajdujących sie w sferze wyznaczonej przez 2 losowo wybrane punkty** ze zbioru `P` w formie listy długości `N` "
   ]
  },
  {
   "cell_type": "code",
   "execution_count": 4,
   "id": "8929ac02",
   "metadata": {},
   "outputs": [],
   "source": [
    "def get_percent_of_points_inside_sphere(P, x, radius):\n",
    "    distances_from_point = np.array([np.linalg.norm(v - x) for v in P])\n",
    "    no_points_inside_sphere = distances_from_point[distances_from_point < radius].shape[0]\n",
    "    return (no_points_inside_sphere / P.shape[0]) * 100\n",
    "\n",
    "def calculate_percent_of_points_in_random_sphere(P, N):\n",
    "    centre_points = [choose_random_point(P) for _ in range(N)]\n",
    "    sphere_points = [choose_random_point(P) for _ in range(N)]\n",
    "    radia = [np.linalg.norm(p1 - p2) for p1, p2 in zip(centre_points, sphere_points)]\n",
    "    \n",
    "    return np.array([get_percent_of_points_inside_sphere(P, x, radius)\n",
    "                     for x, radius in zip(centre_points, radia)])"
   ]
  },
  {
   "cell_type": "markdown",
   "id": "4d13d029",
   "metadata": {},
   "source": [
    " - `calucalate_percent_of_points(P, N)` - Zwraca % średniej dwóch odległości w stosunku do różnicy między nimi, gdzie odległością są długości dwóch odcinków z trzech losowo wylosowanych punktów"
   ]
  },
  {
   "cell_type": "code",
   "execution_count": 5,
   "id": "4b61111e",
   "metadata": {},
   "outputs": [],
   "source": [
    "def calculate_percent_for_three_points(P):\n",
    "    p1, p2, p3 = choose_random_point(P), choose_random_point(P), choose_random_point(P)\n",
    "    r1, r2 = np.linalg.norm(p2 - p1), np.linalg.norm(p3 - p1)\n",
    "    r_avg = np.average([r1, r2])\n",
    "    r_diff = abs(r2 - r1)\n",
    "    return (r_diff/r_avg)*100\n",
    "\n",
    "def calculate_percent_of_points(P, N):\n",
    "    return [calculate_percent_for_three_points(P) for _ in range(N)]"
   ]
  },
  {
   "cell_type": "markdown",
   "id": "75132425",
   "metadata": {},
   "source": [
    "- tworzenie listy średnich i odchyleń standardowych dla danych wymiarów dla danej funkcji\n",
    "\n",
    "Dzięki tej funkcji możemy łatwo przeanalizować wyniki powyżej zaimplementowanych funkcji. Przyjęto, że liczba powtórzeń eksperymentu będzie równa 100.\n",
    "\n",
    "W implementacji losujemy również zbiór punktów w hipersześcianie. Przyjęto, że liczba punktów w nim wynosi 10000, bo taka liczba liczy się względnie niedługo dla każdej z powyższych funkcji."
   ]
  },
  {
   "cell_type": "code",
   "execution_count": 6,
   "id": "7635ebc5",
   "metadata": {},
   "outputs": [],
   "source": [
    "NUMBER_OF_POINTS = 10000\n",
    "NUMBER_OF_REPEATS = 100\n",
    "\n",
    "def get_means_and_stds(func, dimensions):\n",
    "    sets_of_points = [get_random_points_from_hipercube(NUMBER_OF_POINTS, dimension) for dimension in dimensions]\n",
    "    results = np.array([func(point_set, NUMBER_OF_REPEATS) for point_set in sets_of_points])\n",
    "    means = np.average(results, axis=1)\n",
    "    errors = np.std(results, axis=1)\n",
    "    return means, errors"
   ]
  },
  {
   "cell_type": "markdown",
   "id": "315ef79f",
   "metadata": {},
   "source": [
    "- rysowanie wykresu słupkowego"
   ]
  },
  {
   "cell_type": "code",
   "execution_count": 7,
   "id": "3a9358f3",
   "metadata": {},
   "outputs": [],
   "source": [
    "def draw_bar_plot(CTEs, errors, dimensions, title, y_label):\n",
    "    fig, ax = plt.subplots()\n",
    "    \n",
    "    dim_str = [str(dim) for dim in dimensions]\n",
    "    ax.bar(dim_str, CTEs, yerr=errors, ecolor='black', capsize=5, width=0.5, alpha=0.5)\n",
    "    \n",
    "    ax.set_ylabel(y_label)\n",
    "    ax.yaxis.grid(True)\n",
    "    \n",
    "    ax.set_xlabel(\"Dimensions\")\n",
    "    ax.set_title(title)    \n",
    "    \n",
    "    fig.set_figwidth(10)\n",
    "    fig.set_figheight(6)\n",
    "    plt.show()"
   ]
  },
  {
   "cell_type": "markdown",
   "id": "5244b903",
   "metadata": {},
   "source": [
    " - rysowanie histogramu"
   ]
  },
  {
   "cell_type": "code",
   "execution_count": 8,
   "id": "52caea0b",
   "metadata": {},
   "outputs": [],
   "source": [
    "def draw_histogram(results, title, bins=10):\n",
    "    fig, ax = plt.subplots()\n",
    "    \n",
    "    ax.hist(results, bins, alpha=0.5)\n",
    "    ax.set_title(title)\n",
    "    \n",
    "    ax.set_xlabel(\"Angle in °\")\n",
    "    ax.set_ylabel(\"Number of occurences\")\n",
    "    ax.yaxis.grid(True)\n",
    "    \n",
    "    fig.set_figwidth(10)\n",
    "    fig.set_figheight(6)\n",
    "    plt.show()"
   ]
  },
  {
   "cell_type": "markdown",
   "id": "2181fa12",
   "metadata": {},
   "source": [
    " - rysowanie wykresu słupkowego wraz z linią"
   ]
  },
  {
   "cell_type": "code",
   "execution_count": 17,
   "id": "2b4661e5",
   "metadata": {},
   "outputs": [],
   "source": [
    "def draw_barplot_with_line(CTEs, errors, dimensions, title, y_label):\n",
    "    fig, ax = plt.subplots()\n",
    "    \n",
    "    dim_str = [str(dim) for dim in dimensions]\n",
    "    ax.bar(dim_str, CTEs, yerr=errors, ecolor='black', capsize=5, width=0.5, alpha=0.5)\n",
    "    ax.plot(CTEs, color=\"red\", marker=\".\", linewidth=3,  linestyle='dashed')\n",
    "    \n",
    "    ax.set_ylabel(y_label)\n",
    "    ax.yaxis.grid(True)\n",
    "    \n",
    "    ax.set_xlabel(\"Dimensions\")\n",
    "    ax.set_title(title)    \n",
    "    \n",
    "    fig.set_figwidth(10)\n",
    "    fig.set_figheight(6)\n",
    "    plt.show()"
   ]
  },
  {
   "cell_type": "markdown",
   "id": "23b17303",
   "metadata": {},
   "source": [
    "# Wyniki\n",
    "## Badane wymiary\n",
    "Przyjęto, że wszystkie punkty zostaną zbadane dla rosnącej potęgowo liczby wymiarów, czyi dla kolejnych potęg 5."
   ]
  },
  {
   "cell_type": "code",
   "execution_count": 10,
   "id": "d20734b5",
   "metadata": {},
   "outputs": [],
   "source": [
    "dimensions = [5**i for i in range(1, 6)]"
   ]
  },
  {
   "cell_type": "markdown",
   "id": "ba3c2e19",
   "metadata": {},
   "source": [
    "## Losowe kąty\n",
    "Przyjrzyjmy sie najpierw, jak wyglądają wykresy słupkowe dla kolejnych wymiarów."
   ]
  },
  {
   "cell_type": "code",
   "execution_count": 11,
   "id": "57445428",
   "metadata": {},
   "outputs": [
    {
     "data": {
      "image/png": "[encoded data removed]",
      "text/plain": [
       "<Figure size 720x432 with 1 Axes>"
      ]
     },
     "metadata": {
      "needs_background": "light"
     },
     "output_type": "display_data"
    }
   ],
   "source": [
    "title = \"Average degree between two random vectors\"\n",
    "y_label = \"Angle in °\"\n",
    "degree_means, degree_stds = get_means_and_stds(calculate_random_angles, dimensions)\n",
    "draw_bar_plot(degree_means, degree_stds, dimensions, title, y_label)"
   ]
  },
  {
   "cell_type": "markdown",
   "id": "070e62c7",
   "metadata": {},
   "source": [
    "Wartości oscylują około 90 stopni. Odchylenia standardowe jednak zmniejszają się znacząco z każdym kolejnym wymiarem. Prześledźmy histogram dla dwóch skrajnie różnych wymiarów:\n",
    "\n",
    "**5 wymiarów**"
   ]
  },
  {
   "cell_type": "code",
   "execution_count": 12,
   "id": "16baa58f",
   "metadata": {},
   "outputs": [
    {
     "data": {
      "image/png": "[encoded data removed]",
      "text/plain": [
       "<Figure size 720x432 with 1 Axes>"
      ]
     },
     "metadata": {
      "needs_background": "light"
     },
     "output_type": "display_data"
    }
   ],
   "source": [
    "P_5 = get_random_points_from_hipercube(NUMBER_OF_POINTS, 5)\n",
    "result_5d = calculate_random_angles(P_5, NUMBER_OF_REPEATS)\n",
    "bins = np.arange(25, 155, 10)\n",
    "draw_histogram(result_5d, title=\"Histogram for random angle in 5 dimentions\", bins=bins)"
   ]
  },
  {
   "cell_type": "markdown",
   "id": "3e6d13a5",
   "metadata": {},
   "source": [
    "**625 wymiarów**"
   ]
  },
  {
   "cell_type": "code",
   "execution_count": 13,
   "id": "d1a02777",
   "metadata": {},
   "outputs": [
    {
     "data": {
      "image/png": "[encoded data removed]",
      "text/plain": [
       "<Figure size 720x432 with 1 Axes>"
      ]
     },
     "metadata": {
      "needs_background": "light"
     },
     "output_type": "display_data"
    }
   ],
   "source": [
    "P_625 = get_random_points_from_hipercube(NUMBER_OF_POINTS, 625)\n",
    "result_625d = calculate_random_angles(P_625, NUMBER_OF_REPEATS)\n",
    "bins = np.arange(25, 155, 10)\n",
    "draw_histogram(result_625d, title=\"Histogram for random angle in 625 dimentions\", bins=bins)"
   ]
  },
  {
   "cell_type": "markdown",
   "id": "a3f28b3f",
   "metadata": {},
   "source": [
    "Widać wyraźna tendencję - wraz ze wrostem liczby wymiarów coraz trudniej jest wylosować wektor znacząco różny od 90 stopni. Dowodem na to może być to, że niemal wszystkie wartości dla 625 wymiarów lądują w przedziale \\[85, 95) stopnia."
   ]
  },
  {
   "cell_type": "markdown",
   "id": "8b6d714e",
   "metadata": {},
   "source": [
    "## Wykres słupkowy dla kuli powstałej z losowo wybranych 2 punktów."
   ]
  },
  {
   "cell_type": "code",
   "execution_count": 14,
   "id": "c684090c",
   "metadata": {},
   "outputs": [
    {
     "data": {
      "image/png": "[encoded data removed]",
      "text/plain": [
       "<Figure size 720x432 with 1 Axes>"
      ]
     },
     "metadata": {
      "needs_background": "light"
     },
     "output_type": "display_data"
    }
   ],
   "source": [
    "title = \"Average percent of points in a sphere of two random points\"\n",
    "y_label = \"%\"\n",
    "sphere_means, sphere_stds = get_means_and_stds(calculate_percent_of_points_in_random_sphere, dimensions)\n",
    "draw_bar_plot(sphere_means, sphere_stds, dimensions, title, y_label)"
   ]
  },
  {
   "cell_type": "markdown",
   "id": "8684fac5",
   "metadata": {},
   "source": [
    "Wynik jest zaskakujący. W tym przypadku nie widzimy już tendencji do zmniejszania się odchylenia standardowego ani też mierzona wartość nie dąży do zera. Co więcej - przed eksperymentem można było przypuszczać, że słupki będą maleć ze względu na analogiczność tego eksperymentu z mierzeniem stosunku hiperkuli do opisanego na niej hipersześcianu w n-wymiarach.\n",
    "\n",
    "Okazuje się jednak, że losowanie wymiaru kuli *w kontrolowanych warunkach* nie prowadzi do takich problemów."
   ]
  },
  {
   "cell_type": "markdown",
   "id": "ee7fba37",
   "metadata": {},
   "source": [
    "## Stosunek różnicy do średniej długości dwóch losowo wybranych odcinków"
   ]
  },
  {
   "cell_type": "code",
   "execution_count": 15,
   "id": "add27a07",
   "metadata": {},
   "outputs": [
    {
     "data": {
      "image/png": "[encoded data removed]",
      "text/plain": [
       "<Figure size 720x432 with 1 Axes>"
      ]
     },
     "metadata": {
      "needs_background": "light"
     },
     "output_type": "display_data"
    }
   ],
   "source": [
    "title = \"Average difference/average ratio between two random segments\"\n",
    "y_label = \"%\"\n",
    "ratio_means, ratio_stds = get_means_and_stds(calculate_percent_of_points, dimensions)\n",
    "draw_bar_plot(ratio_means, ratio_stds, dimensions, title, y_label)"
   ]
  },
  {
   "cell_type": "markdown",
   "id": "5827344c",
   "metadata": {},
   "source": [
    "Jak widać na powyższym rysunku - mierzony stosunek wyraźnie maleje. Z każdym koejnym wymiarem nie tylko zanika różnorodność, ale mierzona wartość dąży do zera. Dobrze to widać na wykresie liniowym, który nałożymy na powyższy diagram."
   ]
  },
  {
   "cell_type": "code",
   "execution_count": 18,
   "id": "756ff6ae",
   "metadata": {},
   "outputs": [
    {
     "data": {
      "image/png": "[encoded data removed]",
      "text/plain": [
       "<Figure size 720x432 with 1 Axes>"
      ]
     },
     "metadata": {
      "needs_background": "light"
     },
     "output_type": "display_data"
    }
   ],
   "source": [
    "draw_barplot_with_line(ratio_means, ratio_stds, dimensions, title, y_label)"
   ]
  },
  {
   "cell_type": "markdown",
   "id": "03455f57",
   "metadata": {},
   "source": [
    "Dzięki dużej, czerwonej, przerywanej linii wykres staje sie bardziej przekonujący."
   ]
  },
  {
   "cell_type": "markdown",
   "id": "3c1fcb3b",
   "metadata": {},
   "source": [
    "# Wnioski"
   ]
  },
  {
   "cell_type": "markdown",
   "id": "e086d439",
   "metadata": {},
   "source": [
    "Powyższe eksperymenty mozna podsumować słowami Witkacego:\n",
    "\n",
    "*Punkt się rozprężył w n-wymiarów przestrzeń<br>\n",
    "I przestrzeń klapła<br>\n",
    "Jak przekłuty balon.*\n",
    "\n",
    "Badając klątwę wymiaru dochodzimy do paradoksalnych wniosków - chcąc zwiększyć informacje o obiekcie poprzez poszerzenie wiedzy o kolejne wymiary, tracimy zdolność rozróżniania obiektów od siebie. W nieskończoności nic do niczego jest niepodobne - ta myśl jakkolwiek nasuwająca się sama, tworzy rozdarcie w ludzkim postrzeganiu, bo jak można zwiększając rozmiar informacji jednocześnie je tracić? Fakt ten mnie jako (miejmy nadzieję) przyszłego inżyniera niepokoi, a jako humanistę - przeraża. Okazuje się, że problem poznania nawet przy przyjęciu zgrubnych arystetelesowskich założeń staje się trudny do opisania nawet poprzez jedno z najbardziej racjonalnych narzędzi jakimi dysponuje człowiek, którym jest matematyka.\n",
    "\n",
    "Pozostaje nam jedynie liczyć na to, że nasz (jak to opisuje F. Dostojewski) *umysł euklidesowy, ziemski* chociaż nie potrafi pojąć intuicyjnie tego filozoficzngo problemu, tak będzie w stanie go w jakiś sposób ujarzmić, obejść. Oczywiście wpędzamy się co zatem idzie w błędne koło - jeżeli bedziemy chcieli porównywać, które wymiary lepiej opisują przestrzeń, którą chcemy przewidzieć, dokładamy sobie kolejną (a może kolejne) metryki. Która jednak z tych metryk jest najważniejsza? To trzeba już ocenić arbitralnie, postawić granicę przejawiającej się w nas, studentach AGH bez metafizycznego pojęcia o rzeczywistości, chęci do zmierzenia i zważenia wszystkiego, co dookoła, dokonując wyboru, żegnając się z bezpiecznym siedziskiem obserwatora i przyjmując rolę rządcy czy sędziego. \n",
    "\n",
    "*Ważę ciężary o jakich nie myślał żaden cezar świata<br>\n",
    "a wszystko ulata, ulata jak wata, ulata jak wata<br>\n",
    "hop szklankę piwa hop*"
   ]
  },
  {
   "cell_type": "code",
   "execution_count": null,
   "id": "4862fd84",
   "metadata": {},
   "outputs": [],
   "source": []
  }
 ],
 "metadata": {
  "kernelspec": {
   "display_name": "PyCharm (cwicznia)",
   "language": "python",
   "name": "pycharm-8cb21562"
  },
  "language_info": {
   "codemirror_mode": {
    "name": "ipython",
    "version": 3
   },
   "file_extension": ".py",
   "mimetype": "text/x-python",
   "name": "python",
   "nbconvert_exporter": "python",
   "pygments_lexer": "ipython3",
   "version": "3.7.6"
  }
 },
 "nbformat": 4,
 "nbformat_minor": 5
}
